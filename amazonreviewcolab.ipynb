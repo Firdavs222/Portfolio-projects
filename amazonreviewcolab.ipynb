{
  "cells": [
    {
      "cell_type": "markdown",
      "metadata": {
        "id": "view-in-github",
        "colab_type": "text"
      },
      "source": [
        "<a href=\"https://colab.research.google.com/github/Firdavs222/Portfolio-projects/blob/main/amazonreviewcolab.ipynb\" target=\"_parent\"><img src=\"https://colab.research.google.com/assets/colab-badge.svg\" alt=\"Open In Colab\"/></a>"
      ]
    },
    {
      "cell_type": "code",
      "execution_count": null,
      "metadata": {
        "colab": {
          "base_uri": "https://localhost:8080/"
        },
        "id": "iFAbx6-gkYFp",
        "outputId": "eb0cd56d-df59-47b5-812a-eff1e0b0a4e9"
      },
      "outputs": [
        {
          "output_type": "stream",
          "name": "stdout",
          "text": [
            "Requirement already satisfied: kaggle in /usr/local/lib/python3.10/dist-packages (1.6.17)\n",
            "Requirement already satisfied: six>=1.10 in /usr/local/lib/python3.10/dist-packages (from kaggle) (1.16.0)\n",
            "Requirement already satisfied: certifi>=2023.7.22 in /usr/local/lib/python3.10/dist-packages (from kaggle) (2024.8.30)\n",
            "Requirement already satisfied: python-dateutil in /usr/local/lib/python3.10/dist-packages (from kaggle) (2.8.2)\n",
            "Requirement already satisfied: requests in /usr/local/lib/python3.10/dist-packages (from kaggle) (2.32.3)\n",
            "Requirement already satisfied: tqdm in /usr/local/lib/python3.10/dist-packages (from kaggle) (4.66.5)\n",
            "Requirement already satisfied: python-slugify in /usr/local/lib/python3.10/dist-packages (from kaggle) (8.0.4)\n",
            "Requirement already satisfied: urllib3 in /usr/local/lib/python3.10/dist-packages (from kaggle) (2.0.7)\n",
            "Requirement already satisfied: bleach in /usr/local/lib/python3.10/dist-packages (from kaggle) (6.1.0)\n",
            "Requirement already satisfied: webencodings in /usr/local/lib/python3.10/dist-packages (from bleach->kaggle) (0.5.1)\n",
            "Requirement already satisfied: text-unidecode>=1.3 in /usr/local/lib/python3.10/dist-packages (from python-slugify->kaggle) (1.3)\n",
            "Requirement already satisfied: charset-normalizer<4,>=2 in /usr/local/lib/python3.10/dist-packages (from requests->kaggle) (3.3.2)\n",
            "Requirement already satisfied: idna<4,>=2.5 in /usr/local/lib/python3.10/dist-packages (from requests->kaggle) (3.8)\n"
          ]
        }
      ],
      "source": [
        "!pip install kaggle"
      ]
    },
    {
      "cell_type": "code",
      "execution_count": null,
      "metadata": {
        "colab": {
          "base_uri": "https://localhost:8080/"
        },
        "id": "wwI7k7VUkf-f",
        "outputId": "4447ed3b-778e-4ab9-9fe5-1b6cfd5ab9ee"
      },
      "outputs": [
        {
          "output_type": "stream",
          "name": "stdout",
          "text": [
            "Dataset URL: https://www.kaggle.com/datasets/kritanjalijain/amazon-reviews\n",
            "License(s): CC0-1.0\n",
            "amazon-reviews.zip: Skipping, found more recently modified local copy (use --force to force download)\n"
          ]
        }
      ],
      "source": [
        "!kaggle datasets download -d kritanjalijain/amazon-reviews"
      ]
    },
    {
      "cell_type": "code",
      "execution_count": null,
      "metadata": {
        "id": "ucuHKjohk_k0"
      },
      "outputs": [],
      "source": [
        "from zipfile import ZipFile\n",
        "\n",
        "file_name = \"/content/amazon-reviews.zip\"\n",
        "\n",
        "output_dir = \"./unzipped_data\"\n",
        "#zipfile.ZipFile(file_name)\n",
        "#zipfile.ZipExtFile()\n",
        "#with ZipFile(file_name) as myzip:\n",
        "with ZipFile(file_name) as myfile:\n",
        "        myfile.extractall(\"./unzipped_data\")"
      ]
    },
    {
      "cell_type": "code",
      "execution_count": null,
      "metadata": {
        "id": "q8OeF1hclWQY"
      },
      "outputs": [],
      "source": [
        "import pandas as pd\n",
        "\n",
        "train = pd.read_csv(\"/content/unzipped_data/train.csv\",header=None,names=(\"star_rating\", \"topics\", \"review_body\"))\n",
        "test = pd.read_csv(\"/content/unzipped_data/test.csv\",header=None,names=(\"star_rating\", \"topics\", \"review_body\"))"
      ]
    },
    {
      "cell_type": "code",
      "execution_count": null,
      "metadata": {
        "id": "6wYPZbgfXjM2"
      },
      "outputs": [],
      "source": [
        "# def treating(star):\n",
        "#     if 1 <= int(star) <= 2:\n",
        "#         star = \"Negative\"\n",
        "#     elif 4 <= int(star) <= 5:\n",
        "#         star = \"Positive\"\n",
        "#     elif int(star) == 3:\n",
        "#         return None\n",
        "\n",
        "# train[\"star_rating\"] = int(train[\"star_rating\"]).apply(treating)"
      ]
    },
    {
      "cell_type": "code",
      "execution_count": null,
      "metadata": {
        "id": "_JZcgoelzbkH"
      },
      "outputs": [],
      "source": [
        "from sklearn import preprocessing\n",
        "\n",
        "d={\n",
        "    1: \"Negative\",\n",
        "    2: \"Positive\"\n",
        "}\n",
        "train[\"star_rating\"]=train[\"star_rating\"].map(d)\n",
        "test[\"star_rating\"]=test[\"star_rating\"].map(d)\n",
        "\n",
        "train = train.dropna()\n",
        "test = test.dropna()\n",
        "\n",
        "label_encoder = preprocessing.LabelEncoder()\n",
        "\n",
        "train[\"star_rating\"]= label_encoder.fit_transform(train[\"star_rating\"])\n",
        "test[\"star_rating\"] = label_encoder.transform(test[\"star_rating\"])"
      ]
    },
    {
      "cell_type": "code",
      "execution_count": null,
      "metadata": {
        "id": "Bpe39aeYWO-Z",
        "colab": {
          "base_uri": "https://localhost:8080/"
        },
        "outputId": "101f91d2-37b0-4e56-ff37-86656a7959b0"
      },
      "outputs": [
        {
          "output_type": "stream",
          "name": "stderr",
          "text": [
            "[nltk_data] Downloading package stopwords to /root/nltk_data...\n",
            "[nltk_data]   Package stopwords is already up-to-date!\n",
            "[nltk_data] Downloading package punkt to /root/nltk_data...\n",
            "[nltk_data]   Package punkt is already up-to-date!\n"
          ]
        }
      ],
      "source": [
        "import nltk\n",
        "from nltk.corpus import stopwords\n",
        "from nltk.tokenize import word_tokenize\n",
        "\n",
        "spec_chars = \".«»-―–\"\"!!!!$:;_,*•—!?“”…^_________\"\n",
        "nltk.download('stopwords')\n",
        "nltk.download('punkt')\n",
        "stop_words = set(stopwords.words('english'))"
      ]
    },
    {
      "cell_type": "code",
      "execution_count": null,
      "metadata": {
        "collapsed": true,
        "id": "c1E23mqXzndP"
      },
      "outputs": [],
      "source": [
        "def preprocessor(text):\n",
        "    text = str(text)\n",
        "    text.translate(str.maketrans(\"\",\"\",spec_chars))\n",
        "    text.lower()\n",
        "    #text = word_tokenize(text)\n",
        "    return text\n",
        "train[\"review_body\"] = train[\"review_body\"].apply(preprocessor)\n"
      ]
    },
    {
      "cell_type": "code",
      "execution_count": null,
      "metadata": {
        "id": "QR4hfaXw0SH1"
      },
      "outputs": [],
      "source": [
        "test[\"review_body\"] = test[\"review_body\"].apply(preprocessor)\n",
        "x_train = train[\"review_body\"]\n",
        "x_test = test[\"review_body\"]\n",
        "y_train = train[\"star_rating\"]\n",
        "y_test = test[\"star_rating\"]\n"
      ]
    },
    {
      "cell_type": "code",
      "source": [
        "from sklearn.metrics import accuracy_score, confusion_matrix, f1_score, precision_score, recall_score\n",
        "from sklearn.feature_extraction.text import CountVectorizer\n",
        "\n",
        "bow_vectorizer = CountVectorizer()\n",
        "x_train_bow = bow_vectorizer.fit_transform(x_train)\n",
        "x_test_bow = bow_vectorizer.transform(x_test)\n"
      ],
      "metadata": {
        "id": "m7BsYZKQgQmd"
      },
      "execution_count": null,
      "outputs": []
    },
    {
      "cell_type": "code",
      "source": [
        "from sklearn.linear_model import LogisticRegression\n",
        "\n",
        "logistic_bowed = LogisticRegression(max_iter=10)\n",
        "logistic_bowed.fit(x_train_bow, y_train)\n",
        "y_pred_bowed = logistic_bowed.predict(x_test_bow)\n"
      ],
      "metadata": {
        "id": "4mzDnYdsqvsh",
        "colab": {
          "base_uri": "https://localhost:8080/"
        },
        "outputId": "6c69d8bc-4877-490a-bc2a-ae5ba8fbbf19"
      },
      "execution_count": null,
      "outputs": [
        {
          "output_type": "stream",
          "name": "stderr",
          "text": [
            "/usr/local/lib/python3.10/dist-packages/sklearn/linear_model/_logistic.py:460: ConvergenceWarning: lbfgs failed to converge (status=1):\n",
            "STOP: TOTAL NO. of ITERATIONS REACHED LIMIT.\n",
            "\n",
            "Increase the number of iterations (max_iter) or scale the data as shown in:\n",
            "    https://scikit-learn.org/stable/modules/preprocessing.html\n",
            "Please also refer to the documentation for alternative solver options:\n",
            "    https://scikit-learn.org/stable/modules/linear_model.html#logistic-regression\n",
            "  n_iter_i = _check_optimize_result(\n"
          ]
        }
      ]
    },
    {
      "cell_type": "code",
      "source": [
        "accuracy = accuracy_score(y_test,y_pred_bowed)\n",
        "f1 = f1_score(y_test,y_pred_bowed)\n",
        "precision = precision_score(y_test,y_pred_bowed)\n",
        "recall = recall_score(y_test,y_pred_bowed)"
      ],
      "metadata": {
        "id": "UQw9lBAzumLE"
      },
      "execution_count": null,
      "outputs": []
    },
    {
      "cell_type": "code",
      "source": [
        "import matplotlib.pyplot as plt\n",
        "from sklearn import metrics\n",
        "\n",
        "confusion_matrix = metrics.confusion_matrix(y_test, y_pred_bowed)\n",
        "\n",
        "cm_display = metrics.ConfusionMatrixDisplay(confusion_matrix = confusion_matrix, display_labels = [\"Negative\",\"Positive\"])\n",
        "\n",
        "cm_display.plot()\n",
        "plt.show()\n",
        "\n",
        "print(f\"Accuracy score: {accuracy}\")\n",
        "print(f\"F1_score: {f1}\")\n",
        "print(f\"Precision score: {precision}\")\n",
        "print(f\"Recall_score: {recall}\")\n"
      ],
      "metadata": {
        "colab": {
          "base_uri": "https://localhost:8080/",
          "height": 518
        },
        "id": "pXVhe4eHhlTc",
        "outputId": "fb57b2f9-8e89-4ed2-85f6-3ee55142f1b1"
      },
      "execution_count": null,
      "outputs": [
        {
          "output_type": "display_data",
          "data": {
            "text/plain": [
              "<Figure size 640x480 with 2 Axes>"
            ],
            "image/png": "[encoded data removed]"
          },
          "metadata": {}
        },
        {
          "output_type": "stream",
          "name": "stdout",
          "text": [
            "Accuracy score: 0.7852046122767367\n",
            "F1_score: 0.7833712817487033\n",
            "Precision score: 0.7901311807282845\n",
            "Recall_score: 0.7767260690427618\n"
          ]
        }
      ]
    },
    {
      "cell_type": "markdown",
      "source": [
        "\"Accuracy\" model qanchalik qiymatlarni to'g'ri topilganini aniqlaydi va 78,5% yaxshi lekin juda yaxshi emas, ya'ni model ko'proq train qilish kerakligini bildiradi.\n",
        "\"Precision\" esa postive taxminlarning necha foizi to'g'ri topilganini ko'rsatadi.\n",
        "\"Recall\" esa model qanchalik qiymatlarni postive deb to'g'ri aytishini belgilab beradi.\n",
        "\"F1 score\" \"precision\" va \"recall\" qiymatlari o'rtacha garmonik qiymatidir."
      ],
      "metadata": {
        "id": "kMIV6ma2wLYM"
      }
    }
  ],
  "metadata": {
    "colab": {
      "provenance": [],
      "gpuType": "T4",
      "authorship_tag": "ABX9TyOVcea9IzUYYSfhfkBuziXZ",
      "include_colab_link": true
    },
    "kernelspec": {
      "display_name": "Python 3",
      "name": "python3"
    },
    "language_info": {
      "name": "python"
    },
    "accelerator": "GPU"
  },
  "nbformat": 4,
  "nbformat_minor": 0
}